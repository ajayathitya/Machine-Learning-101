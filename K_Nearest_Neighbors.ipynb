{
  "nbformat": 4,
  "nbformat_minor": 0,
  "metadata": {
    "colab": {
      "name": "K-Nearest Neighbors.ipynb",
      "version": "0.3.2",
      "provenance": [],
      "collapsed_sections": []
    },
    "kernelspec": {
      "name": "python3",
      "display_name": "Python 3"
    }
  },
  "cells": [
    {
      "cell_type": "code",
      "metadata": {
        "id": "W-Yj8Pbb8akd",
        "colab_type": "code",
        "colab": {
          "base_uri": "https://localhost:8080/",
          "height": 408
        },
        "outputId": "8a94218a-a320-4597-8a1d-3b7cd0c06a05"
      },
      "source": [
        "from sklearn import datasets,model_selection\n",
        "from sklearn.neighbors import KNeighborsClassifier\n",
        "from sklearn.metrics import accuracy_score,classification_report,confusion_matrix\n",
        "import matplotlib.pyplot as plt\n",
        "\n",
        "data = datasets.load_iris()\n",
        "x = data['data'][:,0:4]\n",
        "y = data['target']\n",
        "\n",
        "x_train, x_test, y_train, y_test = model_selection.train_test_split(x, y, test_size=0.30, random_state=7)\n",
        "\n",
        "model = KNeighborsClassifier(7, weights='distance')\n",
        "model.fit(x_train, y_train)\n",
        "predictions = model.predict(x_test)\n",
        "print('Accuracy Score : {}'.format(accuracy_score(y_test,predictions)))\n",
        "print('Confusion Matrix :\\n {}'.format(confusion_matrix(y_test,predictions)))\n",
        "print('Classification Report :\\n {}'.format(classification_report(y_test,predictions)))\n",
        "\n",
        "print(\"Enter Custom Value as SL, SW, PL, PW: \")\n",
        "custom_input=[]\n",
        "for i in range(0,4):\n",
        "  custom_input.append(float(input())) \n",
        "\n",
        "predict = model.predict([custom_input])\n",
        "if predict[0] == 0:\n",
        "  print(\"Iris Setosa\")\n",
        "elif predict[0] == 1:\n",
        "  print(\"Iris Versicolor\")\n",
        "else:\n",
        "  print(\"Iris Virginica\")\n"
      ],
      "execution_count": 31,
      "outputs": [
        {
          "output_type": "stream",
          "text": [
            "Accuracy Score : 0.9555555555555556\n",
            "Confusion Matrix :\n",
            " [[12  0  0]\n",
            " [ 0 15  1]\n",
            " [ 0  1 16]]\n",
            "Classification Report :\n",
            "               precision    recall  f1-score   support\n",
            "\n",
            "           0       1.00      1.00      1.00        12\n",
            "           1       0.94      0.94      0.94        16\n",
            "           2       0.94      0.94      0.94        17\n",
            "\n",
            "   micro avg       0.96      0.96      0.96        45\n",
            "   macro avg       0.96      0.96      0.96        45\n",
            "weighted avg       0.96      0.96      0.96        45\n",
            "\n",
            "Enter Custom Value as SL, SW, PL, PW: \n",
            "7.1\n",
            "3.7\n",
            "4.5\n",
            "1.8\n",
            "Iris Versicolor\n"
          ],
          "name": "stdout"
        }
      ]
    },
    {
      "cell_type": "code",
      "metadata": {
        "id": "0VKsUrcVAGU7",
        "colab_type": "code",
        "colab": {}
      },
      "source": [
        ""
      ],
      "execution_count": 0,
      "outputs": []
    }
  ]
}